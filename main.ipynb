{
 "cells": [
  {
   "attachments": {},
   "cell_type": "markdown",
   "metadata": {},
   "source": []
  },
  {
   "cell_type": "code",
   "execution_count": 7,
   "metadata": {},
   "outputs": [],
   "source": [
    "# This makes it so that Jupyter won't just output the last line, but everything that gets outputted.\n",
    "from IPython.core.interactiveshell import InteractiveShell\n",
    "InteractiveShell.ast_node_interactivity = \"all\""
   ]
  },
  {
   "attachments": {},
   "cell_type": "markdown",
   "metadata": {},
   "source": [
    "### Task 1\n",
    "\n",
    "We often say there are statically typed languages and dynamically typed languages.\n",
    "Python is a dynamically typed language with an interpreter, meaning the code we write is interpreted by a program that converts it into binary numbers. What does it mean for us when we write code, given that Python is dynamically typed?\n",
    "\n",
    "Answer with code and comments."
   ]
  },
  {
   "cell_type": "code",
   "execution_count": null,
   "metadata": {},
   "outputs": [],
   "source": [
    "# Answer here"
   ]
  },
  {
   "attachments": {},
   "cell_type": "markdown",
   "metadata": {},
   "source": [
    "### Task 2\n",
    "How do I check the type of a variable? Why can it be useful?\n",
    "\n",
    "Answer with code below and write comments above or next to it."
   ]
  },
  {
   "cell_type": "code",
   "execution_count": null,
   "metadata": {},
   "outputs": [],
   "source": [
    "# Answer here"
   ]
  },
  {
   "attachments": {},
   "cell_type": "markdown",
   "metadata": {},
   "source": [
    "### Task 3\n",
    "\n",
    "The variables `a`, `b`, and `c` are strings containing a decimal number each. Convert them to `float` and print their sum using `print`."
   ]
  },
  {
   "cell_type": "code",
   "execution_count": null,
   "metadata": {},
   "outputs": [],
   "source": [
    "a = '5.61'\n",
    "b = '2.15'\n",
    "c = '7.27'\n",
    "\n",
    "# Add code below"
   ]
  },
  {
   "attachments": {},
   "cell_type": "markdown",
   "metadata": {},
   "source": [
    "### Task 4\n",
    "\n",
    "The function `randrange(start, end)` from the `random` module generates a random number between _start_ and _end - 1_. For example, `randrange(5, 10)` gives a number between 5 and 9.\n",
    "\n",
    "Use `randrange` to simulate **two** dice rolls (6-sided) and return the sum of the rolls.\n",
    "\n",
    "Do this by filling in the function `throw_dice()`."
   ]
  },
  {
   "cell_type": "code",
   "execution_count": 1,
   "metadata": {},
   "outputs": [
    {
     "name": "stdout",
     "output_type": "stream",
     "text": [
      "None\n"
     ]
    }
   ],
   "source": [
    "from random import randrange\n",
    "\n",
    "def throw_dice():\n",
    "    # Implement this function, remove the pass keyword\n",
    "    pass\n",
    "\n",
    "print(throw_dice()) # Should print a number between 2 and 12."
   ]
  },
  {
   "attachments": {},
   "cell_type": "markdown",
   "metadata": {},
   "source": [
    "### Task 5\n",
    "\n",
    "When we talk about functions, what is:\n",
    "1. A parameter?\n",
    "2. An argument?\n",
    "\n",
    "Answer with code and comments."
   ]
  },
  {
   "attachments": {},
   "cell_type": "markdown",
   "metadata": {},
   "source": [
    "### Task 6\n",
    "\n",
    "You need to write a function that takes two numbers as arguments and returns the larger number.\n",
    "\n",
    "Example: `print(largest(5, 13))` # Should print 13"
   ]
  },
  {
   "cell_type": "code",
   "execution_count": null,
   "metadata": {},
   "outputs": [],
   "source": [
    "# Implement the function\n",
    "\n",
    "print(largest(5, 13)) # Should print 13"
   ]
  },
  {
   "attachments": {},
   "cell_type": "markdown",
   "metadata": {},
   "source": [
    "### Task 7\n",
    "1. How do you create a list? Answer with code.\n",
    "2. Why do we need lists? Answer with words.\n",
    "3. What is an index? Answer with code and words.\n",
    "4. What is an element? Answer with code and words."
   ]
  },
  {
   "cell_type": "code",
   "execution_count": null,
   "metadata": {},
   "outputs": [],
   "source": [
    "# 1"
   ]
  },
  {
   "cell_type": "code",
   "execution_count": null,
   "metadata": {},
   "outputs": [],
   "source": [
    "# 2"
   ]
  },
  {
   "cell_type": "code",
   "execution_count": null,
   "metadata": {},
   "outputs": [],
   "source": [
    "# 3"
   ]
  },
  {
   "cell_type": "code",
   "execution_count": null,
   "metadata": {},
   "outputs": [],
   "source": [
    "# 4"
   ]
  },
  {
   "attachments": {},
   "cell_type": "markdown",
   "metadata": {},
   "source": [
    "### Task 8\n",
    "\n",
    "Why do we need flow control in programming (if-statements, loops)? Explain with words and code."
   ]
  },
  {
   "cell_type": "code",
   "execution_count": null,
   "metadata": {},
   "outputs": [],
   "source": [
    "# Write here"
   ]
  },
  {
   "attachments": {},
   "cell_type": "markdown",
   "metadata": {},
   "source": [
    "### Task 9\n",
    "\n",
    "Implement the function `return_first_negative_number(l)` so that it returns the first negative number in the list `numbers_list`, which is the argument to the function.\n",
    "\n",
    "Hint: Use `for` and `if`."
   ]
  },
  {
   "cell_type": "code",
   "execution_count": null,
   "metadata": {},
   "outputs": [],
   "source": [
    "def return_first_negative_number(l):\n",
    "    # TODO\n",
    "    pass\n",
    "\n",
    "numbers_list = [4, 1, 34, 42, -20, 21, 49, -48, 40, 3, -21, 10, 37, 36]\n",
    "print(return_first_negative_number(numbers_list)) # Should print -20"
   ]
  },
  {
   "attachments": {},
   "cell_type": "markdown",
   "metadata": {},
   "source": [
    "### Task 10\n",
    "\n",
    "Explain what \"in\" does in this code. The keyword is used twice; what is the difference between these two uses?\n",
    "\n",
    "Answer by commenting the code."
   ]
  },
  {
   "cell_type": "code",
   "execution_count": 2,
   "metadata": {},
   "outputs": [],
   "source": [
    "names = [\"tobias\", \"andreas\", \"tove\"]\n",
    "new_names = []\n",
    "for name in names:\n",
    "   if \"to\" in name:\n",
    "      new_names.append(name)"
   ]
  },
  {
   "attachments": {},
   "cell_type": "markdown",
   "metadata": {},
   "source": [
    "### Task 11"
   ]
  },
  {
   "attachments": {},
   "cell_type": "markdown",
   "metadata": {},
   "source": [
    "You have the following dictionary where the data describes a set of students. The key is their personal identification number, and the value is another dictionary with data. You need to remove all students who\n",
    "have passed.\n",
    "How do you proceed? Write code and comment.\n",
    "\n",
    "Tip: You need to loop."
   ]
  },
  {
   "cell_type": "code",
   "execution_count": null,
   "metadata": {},
   "outputs": [],
   "source": [
    "student_grades = {\n",
    "    9210114413 : {\"name\": \"Alex\", \"score\": 9, \"passed\": True},\n",
    "    9201100412 : {\"name\": \"Emma\", \"score\": 6, \"passed\": False},\n",
    "    9202125612 : {\"name\": \"John\", \"score\": 4, \"passed\": False},\n",
    "    9203202830 : {\"name\": \"Olivia\", \"score\": 7, \"passed\": True},\n",
    "    9210043111 : {\"name\": \"Sophia\", \"score\": 5, \"passed\": False}\n",
    "}\n",
    "\n",
    "# Write code here"
   ]
  }
 ],
 "metadata": {
  "kernelspec": {
   "display_name": "Python 3 (ipykernel)",
   "language": "python",
   "name": "python3"
  },
  "language_info": {
   "codemirror_mode": {
    "name": "ipython",
    "version": 3
   },
   "file_extension": ".py",
   "mimetype": "text/x-python",
   "name": "python",
   "nbconvert_exporter": "python",
   "version": "3.11.6"
  }
 },
 "nbformat": 4,
 "nbformat_minor": 5
}
