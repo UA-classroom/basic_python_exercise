{
 "cells": [
  {
   "attachments": {},
   "cell_type": "markdown",
   "metadata": {},
   "source": [
   ]
  },
  {
   "cell_type": "code",
   "execution_count": 7,
   "metadata": {},
   "outputs": [],
   "source": [
    "# This makes it so that jupyter wont just output the last line, but everything that gets outputted.\n",
    "from IPython.core.interactiveshell import InteractiveShell\n",
    "InteractiveShell.ast_node_interactivity = \"all\""
   ]
  },
  {
   "attachments": {},
   "cell_type": "markdown",
   "metadata": {},
   "source": [
    "### Uppgift 1\n",
    "\n",
    "Vi brukar säga att det finns statiskt typade språk och dynamiskt typade språk.\n",
    "Python är ett dynamiskt typat språk som har en \"interpreter\", dvs. koden vi skriver tolkas av ett program som omvandlar det till binära tal. Vad innebär det i praktiken för oss när vi skriver kod, dvs. att python är dynamiskt typat?\n",
    "\n",
    "Svara med kod och kommentarer."
   ]
  },
  {
   "cell_type": "code",
   "execution_count": null,
   "metadata": {},
   "outputs": [],
   "source": [
    "# Svara här"
   ]
  },
  {
   "attachments": {},
   "cell_type": "markdown",
   "metadata": {},
   "source": [
    "### Uppgift 2\n",
    "Hur kollar jag vad en variabel har för typ? Varför kan det vara användbart?\n",
    "\n",
    "Svara med kod nedanför och skriv kommentarer över eller bredvid."
   ]
  },
  {
   "cell_type": "code",
   "execution_count": null,
   "metadata": {},
   "outputs": [],
   "source": [
    "# Svara här"
   ]
  },
  {
   "attachments": {},
   "cell_type": "markdown",
   "metadata": {},
   "source": [
    "### Uppgift 3\n",
    "\n",
    "Variablerna a, b, c är textsträngar som innehåller ett decimaltal var. Konvertera dem till float och skriv ut summan av dem med print."
   ]
  },
  {
   "cell_type": "code",
   "execution_count": null,
   "metadata": {},
   "outputs": [],
   "source": [
    "a = '5.61'\n",
    "b = '2.15'\n",
    "c = '7.27'\n",
    "\n",
    "# Lägg till kod under"
   ]
  },
  {
   "attachments": {},
   "cell_type": "markdown",
   "metadata": {},
   "source": [
    "### Uppgift 4\n",
    "\n",
    "Funktionen `randrange(start, end)` i modulen `random` genererar ett slumpat tal mellan _start_ och _end - 1_. `randrange(5, 10)` ger ger alltså tal mellan 5 och 9.\n",
    "\n",
    "Använd randrange för att simulera **två** tärningskast (6-sidiga) och returnera summan av kasten.\n",
    "\n",
    "Gör detta genom att fylla i funktionen `throw_dice()`."
   ]
  },
  {
   "cell_type": "code",
   "execution_count": 1,
   "metadata": {},
   "outputs": [
    {
     "name": "stdout",
     "output_type": "stream",
     "text": [
      "None\n"
     ]
    }
   ],
   "source": [
    "from random import randrange\n",
    "\n",
    "def throw_dice():\n",
    "    # Implementera denna funktion, ta bort pass-keywordet\n",
    "    pass\n",
    "\n",
    "print(throw_dice()) # Ska skriva ut tal tal mellan 2 och 12. "
   ]
  },
  {
   "attachments": {},
   "cell_type": "markdown",
   "metadata": {},
   "source": [
    "### Uppgift 5\n",
    "\n",
    "När vi pratar om funktioner, vad är\n",
    "1. En parameter?\n",
    "2. Ett argument?\n",
    "\n",
    "Svara med kod med kommentarer"
   ]
  },
  {
   "attachments": {},
   "cell_type": "markdown",
   "metadata": {},
   "source": [
    "### Uppgift 6\n",
    "\n",
    "Du ska skriva en funktion som tar två siffror som argument och returnerar siffran som är störst.\n",
    "\n",
    "Exempel : print(largest(5, 13)) # Ska skriva ut 13"
   ]
  },
  {
   "cell_type": "code",
   "execution_count": null,
   "metadata": {},
   "outputs": [],
   "source": [
    "# Implementera funktionen\n",
    "\n",
    "print(largest(5, 13)) # Ska skriva ut 13"
   ]
  },
  {
   "attachments": {},
   "cell_type": "markdown",
   "metadata": {},
   "source": [
    "### Uppgift 7\n",
    "1. Hur skapar du en lista? Svara med kod.\n",
    "2. Varför behöver vi listor?  Svara med ord.\n",
    "3. Vad är ett index? Svara med kod och ord.\n",
    "4. Vad är ett element? Svara med kod och ord."
   ]
  },
  {
   "cell_type": "code",
   "execution_count": null,
   "metadata": {},
   "outputs": [],
   "source": [
    "# 1"
   ]
  },
  {
   "cell_type": "code",
   "execution_count": null,
   "metadata": {},
   "outputs": [],
   "source": [
    "# 2"
   ]
  },
  {
   "cell_type": "code",
   "execution_count": null,
   "metadata": {},
   "outputs": [],
   "source": [
    "# 3"
   ]
  },
  {
   "cell_type": "code",
   "execution_count": null,
   "metadata": {},
   "outputs": [],
   "source": [
    "# 4"
   ]
  },
  {
   "attachments": {},
   "cell_type": "markdown",
   "metadata": {},
   "source": [
    "### Uppgift 8\n",
    "\n",
    "Varför behöver vi flödeskontroll när vi programmerar (if-statements, loopar)? Förklara med ord och kod."
   ]
  },
  {
   "cell_type": "code",
   "execution_count": null,
   "metadata": {},
   "outputs": [],
   "source": [
    "# Skriv här"
   ]
  },
  {
   "attachments": {},
   "cell_type": "markdown",
   "metadata": {},
   "source": [
    "### Uppgift 9\n",
    "\n",
    "Implementera funktionen `return_first_negative_number(l)` så att den returnerar det första negativa talet i listan numbers_list som är argumentet till funktionen.\n",
    "\n",
    "Hint: Använd `for` och `if`"
   ]
  },
  {
   "cell_type": "code",
   "execution_count": null,
   "metadata": {},
   "outputs": [],
   "source": [
    "def return_first_negative_number(l):\n",
    "    # TODO\n",
    "    pass\n",
    "\n",
    "numbers_list = [4, 1, 34, 42, -20, 21, 49, -48, 40, 3, -21, 10, 37, 36]\n",
    "print(return_first_negative_number(numbers_list)) # Ska skriva ut -20"
   ]
  },
  {
   "attachments": {},
   "cell_type": "markdown",
   "metadata": {},
   "source": [
    "### Uppgift 10\n",
    "\n",
    "Förklara vad \"in\" gör i denna kod gör. Keywordet används två gånger, vad är skillnaden på dessa två användningsområden?\n",
    "\n",
    "Svara genom att kommentera koden"
   ]
  },
  {
   "cell_type": "code",
   "execution_count": 2,
   "metadata": {},
   "outputs": [],
   "source": [
    "names = [\"tobias\", \"andreas\", \"tove\"]\n",
    "new_names = []\n",
    "for name in names:\n",
    "   if \"to\" in name:\n",
    "      new_names.append(name)"
   ]
  },
  {
   "attachments": {},
   "cell_type": "markdown",
   "metadata": {},
   "source": [
    "### Uppgift 11"
   ]
  },
  {
   "attachments": {},
   "cell_type": "markdown",
   "metadata": {},
   "source": [
    "Du har följande dictionary där datan beskriver en mängd studenter. Nyckeln är deras personnnummer, valuen är ytterligare en dictionary med data. Du behöver rensa bort alla studenter som\n",
    "har blivit godkända. \n",
    "Hur går du till väga? Skriv kod och kommentera.\n",
    "\n",
    "Tips: Du behöver loopa."
   ]
  },
  {
   "cell_type": "code",
   "execution_count": null,
   "metadata": {},
   "outputs": [],
   "source": [
    "student_grades = {\n",
    "    9210114413 : {\"grade\": 55, \"passed\": True},\n",
    "    9010054514 : {\"grade\": 22, \"passed\": False},\n",
    "    8504129392 : {\"grade\": 60, \"passed\": True},\n",
    "    9201134555 : {\"grade\": 15, \"passed\": False},\n",
    "}\n",
    "\n",
    "# Lägg till kod här"
   ]
  },
  {
   "attachments": {},
   "cell_type": "markdown",
   "metadata": {},
   "source": [
    "### Uppgift 12\n",
    "\n",
    "Du har en lista som består av dictionaries. Varje dictionary representerar data för en enskild student i ett system.\n",
    "\n",
    "Du vill skapa en ny lista som endast består av studenter där \"Passed\" är True, hur gör du? \n",
    "\n",
    "**Tips** Utnyttja listor, loops och if-statements. \n",
    "\n",
    "**Svara med kod**"
   ]
  },
  {
   "cell_type": "code",
   "execution_count": null,
   "metadata": {},
   "outputs": [],
   "source": [
    "students = [\n",
    "    {'name': 'John', 'age': 18, 'passed': True, 'major': 'computer science', 'GPA': 3.8},\n",
    "    {'name': 'Jane', 'age': 19, 'passed': False, 'major': 'biology', 'GPA': 3.2},\n",
    "    {'name': 'Bob', 'age': 20, 'passed': True, 'major': 'engineering', 'GPA': 3.5},\n",
    "    {'name': 'Alice', 'age': 21, 'passed': False, 'major': 'history', 'GPA': 2.9},\n",
    "    {'name': 'David', 'age': 22, 'passed': True, 'major': 'business', 'GPA': 3.6}\n",
    "]\n",
    "\n",
    "# Lägg till"
   ]
  },
  {
   "attachments": {},
   "cell_type": "markdown",
   "metadata": {},
   "source": [
    "### Uppgift 13\n",
    "Ponera att du har ett register av hela sveriges befolkning (ca 10 miljoner invånare) som vi sparat i en dictionary med personnumret som key och övrig data som value. \n",
    "Tex:\n",
    "```python\n",
    "swedish_ssn_collection = {199105125545: {}...}\n",
    "```\n",
    "Varför är det ett rimligt val att använda en dictionary istället för exempelvis en list, med avseende på tex. performance?\n",
    "\n",
    "**Svara med text.**"
   ]
  },
  {
   "cell_type": "code",
   "execution_count": null,
   "metadata": {},
   "outputs": [],
   "source": []
  },
  {
   "attachments": {},
   "cell_type": "markdown",
   "metadata": {},
   "source": [
    "# VG"
   ]
  },
  {
   "attachments": {},
   "cell_type": "markdown",
   "metadata": {},
   "source": [
    "I mappen så hittar du ytterligare två pythonfiler. Du ska lösa **båda** självständigt för att få VG. \n",
    "Instruktioner finns i varje fil. Kom ihåg - du ska inte använda AI som hjälpmedel - det är denna typ av uppgift som hjälper dig öva på problemlösning.\n",
    "\n",
    "Tänk på att försöka kommentera din kod med kortare förklaringar där du tycker att du känns relevant."
   ]
  },
  {
   "attachments": {},
   "cell_type": "markdown",
   "metadata": {},
   "source": [
    "## 1 - Number generator\n",
    "Du ska lösa uppgiften som du hittar i vg_1.py - Den tränar dig på att dela upp logik i funktioner och visar hur vi kan skapa ett enklare konsolprogram som utnyttjar en meny."
   ]
  },
  {
   "attachments": {},
   "cell_type": "markdown",
   "metadata": {},
   "source": [
    "## 2 - Sten sax påse\n",
    "\n",
    "Du ska lösa uppgiften som du hittar i vg_2.py - Den tränar dig på att jobba med if-statements och loopar. \n",
    "För högsta kvalitet bör du också hantera errors (tex. om användaren inte skriver sten, stax eller påse)"
   ]
  }
 ],
 "metadata": {
  "kernelspec": {
   "display_name": "venv",
   "language": "python",
   "name": "python3"
  },
  "language_info": {
   "codemirror_mode": {
    "name": "ipython",
    "version": 3
   },
   "file_extension": ".py",
   "mimetype": "text/x-python",
   "name": "python",
   "nbconvert_exporter": "python",
   "pygments_lexer": "ipython3",
   "version": "3.10.6"
  },
  "orig_nbformat": 4
 },
 "nbformat": 4,
 "nbformat_minor": 2
}
